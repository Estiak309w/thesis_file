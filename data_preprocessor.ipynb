{
 "cells": [
  {
   "cell_type": "code",
   "execution_count": 2,
   "metadata": {},
   "outputs": [],
   "source": [
    "import pandas as pd"
   ]
  },
  {
   "cell_type": "code",
   "execution_count": 4,
   "metadata": {},
   "outputs": [],
   "source": [
    "data = pd.read_csv(\"anti_islamic.csv\")"
   ]
  },
  {
   "cell_type": "code",
   "execution_count": 5,
   "metadata": {},
   "outputs": [
    {
     "data": {
      "text/plain": [
       "(3, 2)"
      ]
     },
     "execution_count": 5,
     "metadata": {},
     "output_type": "execute_result"
    }
   ],
   "source": [
    "data.shape"
   ]
  },
  {
   "cell_type": "code",
   "execution_count": 11,
   "metadata": {},
   "outputs": [
    {
     "data": {
      "text/plain": [
       "0    হাওয়া গন্ধম খাওয়াতে গন্ধম গাছের অভিশাপে তার রজ...\n",
       "1    আপনার বাবা নগেন পাল হলে আপনি হতেন খগেন পাল জাত...\n",
       "2            শয়তান ছাড়া ঈশ্বর এবং ধর্ম দুটোই অসম্পূর্ণ\n",
       "Name: list, dtype: object"
      ]
     },
     "execution_count": 11,
     "metadata": {},
     "output_type": "execute_result"
    }
   ],
   "source": [
    "data['list']"
   ]
  },
  {
   "cell_type": "code",
   "execution_count": null,
   "metadata": {},
   "outputs": [],
   "source": []
  },
  {
   "cell_type": "code",
   "execution_count": 6,
   "metadata": {},
   "outputs": [],
   "source": [
    "import re\n",
    "def digit_remover(text):\n",
    "    text = re.sub(r'[\\d]','',text)\n",
    "    text = re.sub(r'[?\\!\\t\\‛\\’\\(\\)\\.\\।]+','',text)\n",
    "    text = re.sub(r'[/\\-\\,]',' ',text)\n",
    "    text = text.rstrip(\"\\n\\r\")\n",
    "    return text"
   ]
  },
  {
   "cell_type": "code",
   "execution_count": 12,
   "metadata": {},
   "outputs": [
    {
     "name": "stderr",
     "output_type": "stream",
     "text": [
      "C:\\Users\\estia\\Anaconda3\\lib\\site-packages\\ipykernel_launcher.py:3: SettingWithCopyWarning: \n",
      "A value is trying to be set on a copy of a slice from a DataFrame\n",
      "\n",
      "See the caveats in the documentation: http://pandas.pydata.org/pandas-docs/stable/indexing.html#indexing-view-versus-copy\n",
      "  This is separate from the ipykernel package so we can avoid doing imports until\n"
     ]
    }
   ],
   "source": [
    "def remover(sent):\n",
    "    for i in range(len(sent)):\n",
    "        sent[i] = digit_remover(sent[i])\n",
    "    return sent\n",
    "sent = remover(data['list'])"
   ]
  },
  {
   "cell_type": "code",
   "execution_count": 14,
   "metadata": {},
   "outputs": [
    {
     "name": "stdout",
     "output_type": "stream",
     "text": [
      "0    হাওয়া গন্ধম খাওয়াতে গন্ধম গাছের অভিশাপে তার রজ...\n",
      "1    আপনার বাবা নগেন পাল হলে আপনি হতেন খগেন পাল জাত...\n",
      "2            শয়তান ছাড়া ঈশ্বর এবং ধর্ম দুটোই অসম্পূর্ণ\n",
      "Name: list, dtype: object\n",
      "0    হাওয়া গন্ধম খাওয়াতে গন্ধম গাছের অভিশাপে তার রজ...\n",
      "1    আপনার বাবা নগেন পাল হলে আপনি হতেন খগেন পাল জাত...\n",
      "2            শয়তান ছাড়া ঈশ্বর এবং ধর্ম দুটোই অসম্পূর্ণ\n",
      "Name: list, dtype: object\n",
      "0    হাওয়া গন্ধম খাওয়াতে গন্ধম গাছের অভিশাপে তার রজ...\n",
      "1    আপনার বাবা নগেন পাল হলে আপনি হতেন খগেন পাল জাত...\n",
      "2            শয়তান ছাড়া ঈশ্বর এবং ধর্ম দুটোই অসম্পূর্ণ\n",
      "Name: list, dtype: object\n"
     ]
    }
   ],
   "source": [
    "for i in range(3):\n",
    "    print(sent)"
   ]
  },
  {
   "cell_type": "code",
   "execution_count": null,
   "metadata": {},
   "outputs": [],
   "source": []
  }
 ],
 "metadata": {
  "kernelspec": {
   "display_name": "Python 3",
   "language": "python",
   "name": "python3"
  },
  "language_info": {
   "codemirror_mode": {
    "name": "ipython",
    "version": 3
   },
   "file_extension": ".py",
   "mimetype": "text/x-python",
   "name": "python",
   "nbconvert_exporter": "python",
   "pygments_lexer": "ipython3",
   "version": "3.6.5"
  }
 },
 "nbformat": 4,
 "nbformat_minor": 2
}
