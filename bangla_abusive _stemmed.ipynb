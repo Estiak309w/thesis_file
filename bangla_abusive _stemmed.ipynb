{
 "cells": [
  {
   "cell_type": "code",
   "execution_count": 2,
   "metadata": {},
   "outputs": [],
   "source": [
    "import pandas as pd\n",
    "import numpy as np\n"
   ]
  },
  {
   "cell_type": "code",
   "execution_count": 30,
   "metadata": {},
   "outputs": [],
   "source": [
    "sent = []\n",
    "path = \"thesis_code/abusive_slang.txt\"\n",
    "with open(path, \"r\",encoding=\"utf-8\") as f:\n",
    "    for line in f:\n",
    "        sent.append(line)\n"
   ]
  },
  {
   "cell_type": "code",
   "execution_count": 4,
   "metadata": {},
   "outputs": [
    {
     "name": "stdout",
     "output_type": "stream",
     "text": [
      "﻿বেটার পুটকির রগ ,1 একটা তেরা ?!\n",
      "\n",
      "মাগির বাচ্চারা অযথাই বেতিন খাচ্ছে।,1\n",
      "\n",
      "মোবাইল দুচাও,1\n",
      "\n"
     ]
    }
   ],
   "source": [
    "for i in range(3):\n",
    "    print(sent[i])"
   ]
  },
  {
   "cell_type": "code",
   "execution_count": 5,
   "metadata": {},
   "outputs": [],
   "source": [
    "import re\n",
    "def digit_remover(text):\n",
    "    text = re.sub(r'[\\d]','',text)\n",
    "    text = re.sub(r'[?\\!\\‛\\’\\(\\)\\.\\।]+','',text)\n",
    "    text = re.sub(r'[/\\-\\,]',' ',text)\n",
    "    text = text.rstrip(\"\\n\\r\")\n",
    "    return text\n"
   ]
  },
  {
   "cell_type": "code",
   "execution_count": 6,
   "metadata": {},
   "outputs": [
    {
     "name": "stdout",
     "output_type": "stream",
     "text": [
      "হত্যাকাণ্ড খারাপ অদৃশ্য কাল্পনিক ধর্মের ধার্মিকদের \n"
     ]
    }
   ],
   "source": [
    "print(digit_remover(\"হত্যাকাণ্ড/খারাপ,অদৃশ্য-কাল্পনিক,ধর্মের/ধার্মিকদের,0\"))"
   ]
  },
  {
   "cell_type": "code",
   "execution_count": 7,
   "metadata": {},
   "outputs": [],
   "source": [
    "for i in range(len(sent)):\n",
    "    sent[i] = digit_remover(sent[i])"
   ]
  },
  {
   "cell_type": "code",
   "execution_count": 8,
   "metadata": {},
   "outputs": [
    {
     "name": "stdout",
     "output_type": "stream",
     "text": [
      "﻿বেটার পুটকির রগ   একটা তেরা \n",
      "মাগির বাচ্চারা অযথাই বেতিন খাচ্ছে \n",
      "মোবাইল দুচাও \n",
      "ভিডিও দুচাও না  \n",
      " তুমি চুদলে সেটা হালাল চোদন তাই না ভাউ \n"
     ]
    }
   ],
   "source": [
    "for i in range(5):\n",
    "    print(sent[i])"
   ]
  },
  {
   "cell_type": "code",
   "execution_count": 9,
   "metadata": {},
   "outputs": [],
   "source": [
    "#print(sent)"
   ]
  },
  {
   "cell_type": "code",
   "execution_count": 10,
   "metadata": {},
   "outputs": [],
   "source": [
    "df = pd.DataFrame({'col':sent})\n",
    "df['label'] = 2%2"
   ]
  },
  {
   "cell_type": "code",
   "execution_count": 11,
   "metadata": {},
   "outputs": [
    {
     "data": {
      "text/html": [
       "<div>\n",
       "<style scoped>\n",
       "    .dataframe tbody tr th:only-of-type {\n",
       "        vertical-align: middle;\n",
       "    }\n",
       "\n",
       "    .dataframe tbody tr th {\n",
       "        vertical-align: top;\n",
       "    }\n",
       "\n",
       "    .dataframe thead th {\n",
       "        text-align: right;\n",
       "    }\n",
       "</style>\n",
       "<table border=\"1\" class=\"dataframe\">\n",
       "  <thead>\n",
       "    <tr style=\"text-align: right;\">\n",
       "      <th></th>\n",
       "      <th>col</th>\n",
       "      <th>label</th>\n",
       "    </tr>\n",
       "  </thead>\n",
       "  <tbody>\n",
       "    <tr>\n",
       "      <th>176</th>\n",
       "      <td>এরে কুত্তা দিয়ে চোদাও</td>\n",
       "      <td>0</td>\n",
       "    </tr>\n",
       "    <tr>\n",
       "      <th>177</th>\n",
       "      <td>আপনার কথাবার্তা শুনে মনে হচ্ছে আপনি গোয়ামারা খ...</td>\n",
       "      <td>0</td>\n",
       "    </tr>\n",
       "    <tr>\n",
       "      <th>178</th>\n",
       "      <td>ফেসবুকে নিতিকথার স্ট্যাটাস চুদান</td>\n",
       "      <td>0</td>\n",
       "    </tr>\n",
       "    <tr>\n",
       "      <th>179</th>\n",
       "      <td>এই শালি বেশশ্যা</td>\n",
       "      <td>0</td>\n",
       "    </tr>\n",
       "    <tr>\n",
       "      <th>180</th>\n",
       "      <td>শালা শুয়রের বাচ্চা চুতমারানির পুত</td>\n",
       "      <td>0</td>\n",
       "    </tr>\n",
       "  </tbody>\n",
       "</table>\n",
       "</div>"
      ],
      "text/plain": [
       "                                                   col  label\n",
       "176                              এরে কুত্তা দিয়ে চোদাও      0\n",
       "177  আপনার কথাবার্তা শুনে মনে হচ্ছে আপনি গোয়ামারা খ...      0\n",
       "178                   ফেসবুকে নিতিকথার স্ট্যাটাস চুদান      0\n",
       "179                                    এই শালি বেশশ্যা      0\n",
       "180                  শালা শুয়রের বাচ্চা চুতমারানির পুত      0"
      ]
     },
     "execution_count": 11,
     "metadata": {},
     "output_type": "execute_result"
    }
   ],
   "source": [
    "df.tail(5)"
   ]
  },
  {
   "cell_type": "code",
   "execution_count": 12,
   "metadata": {},
   "outputs": [],
   "source": [
    "sent_2 = []\n",
    "with open(\"thesis_code/python_stemmer.txt\", \"r\",encoding=\"utf-8\") as f:\n",
    "    for line in f:\n",
    "        sent_2.append(line)"
   ]
  },
  {
   "cell_type": "code",
   "execution_count": 13,
   "metadata": {},
   "outputs": [],
   "source": [
    "df_2 = pd.DataFrame({'col':sent_2})\n",
    "df_2['label'] = 1"
   ]
  },
  {
   "cell_type": "code",
   "execution_count": 14,
   "metadata": {},
   "outputs": [
    {
     "data": {
      "text/html": [
       "<div>\n",
       "<style scoped>\n",
       "    .dataframe tbody tr th:only-of-type {\n",
       "        vertical-align: middle;\n",
       "    }\n",
       "\n",
       "    .dataframe tbody tr th {\n",
       "        vertical-align: top;\n",
       "    }\n",
       "\n",
       "    .dataframe thead th {\n",
       "        text-align: right;\n",
       "    }\n",
       "</style>\n",
       "<table border=\"1\" class=\"dataframe\">\n",
       "  <thead>\n",
       "    <tr style=\"text-align: right;\">\n",
       "      <th></th>\n",
       "      <th>col</th>\n",
       "      <th>label</th>\n",
       "    </tr>\n",
       "  </thead>\n",
       "  <tbody>\n",
       "    <tr>\n",
       "      <th>0</th>\n",
       "      <td>﻿হাওয়া গন্ধম খাওয়া গন্ধম গাছ অভিশাপ তা রজস্রাব...</td>\n",
       "      <td>1</td>\n",
       "    </tr>\n",
       "    <tr>\n",
       "      <th>1</th>\n",
       "      <td>বল দেখ আপনা বাবা নগ পাল হল আপনি হত খগ পাল জাতী...</td>\n",
       "      <td>1</td>\n",
       "    </tr>\n",
       "    <tr>\n",
       "      <th>2</th>\n",
       "      <td>শয়তান ছাড়া ঈশ্ব এবং ধর্ম দুটো অসম্পূর্ণ\\n</td>\n",
       "      <td>1</td>\n",
       "    </tr>\n",
       "    <tr>\n",
       "      <th>3</th>\n",
       "      <td>ঈশ্ব এবং শয়তান দুটো ধর্ম অন্যতম প্রধান স্তম্ভ\\n</td>\n",
       "      <td>1</td>\n",
       "    </tr>\n",
       "    <tr>\n",
       "      <th>4</th>\n",
       "      <td>ঈশ্ব  শয়তান ক্ষমতা প্রায় সমান সমান\\n</td>\n",
       "      <td>1</td>\n",
       "    </tr>\n",
       "  </tbody>\n",
       "</table>\n",
       "</div>"
      ],
      "text/plain": [
       "                                                 col  label\n",
       "0  ﻿হাওয়া গন্ধম খাওয়া গন্ধম গাছ অভিশাপ তা রজস্রাব...      1\n",
       "1  বল দেখ আপনা বাবা নগ পাল হল আপনি হত খগ পাল জাতী...      1\n",
       "2          শয়তান ছাড়া ঈশ্ব এবং ধর্ম দুটো অসম্পূর্ণ\\n      1\n",
       "3    ঈশ্ব এবং শয়তান দুটো ধর্ম অন্যতম প্রধান স্তম্ভ\\n      1\n",
       "4               ঈশ্ব  শয়তান ক্ষমতা প্রায় সমান সমান\\n      1"
      ]
     },
     "execution_count": 14,
     "metadata": {},
     "output_type": "execute_result"
    }
   ],
   "source": [
    "df_2.head()"
   ]
  },
  {
   "cell_type": "code",
   "execution_count": 15,
   "metadata": {},
   "outputs": [],
   "source": [
    "frames = [df, df_2]\n",
    "result = pd.concat(frames)"
   ]
  },
  {
   "cell_type": "code",
   "execution_count": 16,
   "metadata": {},
   "outputs": [
    {
     "data": {
      "text/html": [
       "<div>\n",
       "<style scoped>\n",
       "    .dataframe tbody tr th:only-of-type {\n",
       "        vertical-align: middle;\n",
       "    }\n",
       "\n",
       "    .dataframe tbody tr th {\n",
       "        vertical-align: top;\n",
       "    }\n",
       "\n",
       "    .dataframe thead th {\n",
       "        text-align: right;\n",
       "    }\n",
       "</style>\n",
       "<table border=\"1\" class=\"dataframe\">\n",
       "  <thead>\n",
       "    <tr style=\"text-align: right;\">\n",
       "      <th></th>\n",
       "      <th>col</th>\n",
       "      <th>label</th>\n",
       "    </tr>\n",
       "  </thead>\n",
       "  <tbody>\n",
       "    <tr>\n",
       "      <th>91</th>\n",
       "      <td>সমাজ  রাস্ট্র যেরকম প্রাতিষ্ঠানিক কোনো ধর্ম প্...</td>\n",
       "      <td>1</td>\n",
       "    </tr>\n",
       "    <tr>\n",
       "      <th>92</th>\n",
       "      <td>তেমনি ধর্ম প্রয়োজন নে কোনো সংস্কৃতিবান, শিক্ষি...</td>\n",
       "      <td>1</td>\n",
       "    </tr>\n",
       "    <tr>\n",
       "      <th>93</th>\n",
       "      <td>নবী রাসুল এবং আল্লাহক নিয় কোন কটুক্তি কর তাহল ...</td>\n",
       "      <td>1</td>\n",
       "    </tr>\n",
       "    <tr>\n",
       "      <th>94</th>\n",
       "      <td>‛ইসলাম’ এক কলঙ্ক নাম: চুি শাস্তি হস্ত-কর্তন\\n</td>\n",
       "      <td>1</td>\n",
       "    </tr>\n",
       "    <tr>\n",
       "      <th>95</th>\n",
       "      <td>ইসলাম পুরোটা এক ভুয়া ধর্ম অন্যান্য সকল ধর্ম মত\\n</td>\n",
       "      <td>1</td>\n",
       "    </tr>\n",
       "    <tr>\n",
       "      <th>96</th>\n",
       "      <td>কোরান শিক্ষক হ হল ছাগল চড়ানো পূর্ব অভিজ্ঞতা থ...</td>\n",
       "      <td>1</td>\n",
       "    </tr>\n",
       "    <tr>\n",
       "      <th>97</th>\n",
       "      <td>নবীজি ছাগল চড়নো অভিজ্ঞতা ছিল বলে ছাগল রুপি সা...</td>\n",
       "      <td>1</td>\n",
       "    </tr>\n",
       "  </tbody>\n",
       "</table>\n",
       "</div>"
      ],
      "text/plain": [
       "                                                  col  label\n",
       "91  সমাজ  রাস্ট্র যেরকম প্রাতিষ্ঠানিক কোনো ধর্ম প্...      1\n",
       "92  তেমনি ধর্ম প্রয়োজন নে কোনো সংস্কৃতিবান, শিক্ষি...      1\n",
       "93  নবী রাসুল এবং আল্লাহক নিয় কোন কটুক্তি কর তাহল ...      1\n",
       "94      ‛ইসলাম’ এক কলঙ্ক নাম: চুি শাস্তি হস্ত-কর্তন\\n      1\n",
       "95   ইসলাম পুরোটা এক ভুয়া ধর্ম অন্যান্য সকল ধর্ম মত\\n      1\n",
       "96  কোরান শিক্ষক হ হল ছাগল চড়ানো পূর্ব অভিজ্ঞতা থ...      1\n",
       "97  নবীজি ছাগল চড়নো অভিজ্ঞতা ছিল বলে ছাগল রুপি সা...      1"
      ]
     },
     "execution_count": 16,
     "metadata": {},
     "output_type": "execute_result"
    }
   ],
   "source": [
    "result.tail(7)"
   ]
  },
  {
   "cell_type": "code",
   "execution_count": 17,
   "metadata": {},
   "outputs": [],
   "source": [
    "from sklearn.model_selection import train_test_split\n",
    "X = result['col']\n",
    "y = result['label']\n",
    "X_train,X_test,y_train,y_test = train_test_split(X,y,random_state = 1,test_size=.2)"
   ]
  },
  {
   "cell_type": "code",
   "execution_count": 18,
   "metadata": {},
   "outputs": [
    {
     "name": "stdout",
     "output_type": "stream",
     "text": [
      "137                     শালার মুখে কুত্তা দিয়া চোদা উচিত\n",
      "122                মাগির বেটিরে ধইরা ইচ্ছা মত চোদা লাগতো\n",
      "37     ধর্ম চলা, বলা, প্রচার-প্রসার, চিৎকার, চেঁচামেচ...\n",
      "138                  তোর চৌদ্দগুষ্টিকে  কুত্তা দিয়ে চোদা\n",
      "19                                     খানকি মাগির পোলা \n",
      "51     বউয়ের সাথে চোদাচুদি করার বিষয়ে পশ্চিমা দুনিয়ার...\n",
      "31     ঈশ্বরে যেমন নিজেদ দোষ চাপানো জন্য শয়তান সৃষ্ ক...\n",
      "27                     আপনি দেশের জন্য কোন বালডা করছেন  \n",
      "172    বিশ্ব খানকী  ওরে জুতার মধ্যে গু দিয়া ওর কপালে ...\n",
      "117                         মাগিরে পাগলা কুতা কামরাইছে  \n",
      "44                               পাছা আর দুদুর যে অবস্থা\n",
      "139    এই মাগির মুখ দিয়ে তার নোংরামির সত্য ঘটনা গুলো ...\n",
      "123    মাগিকে  পাছায় লাথি দিতে দিতে দিতে মেরে ফেলা উচ...\n",
      "43     ধর্মান্ধ বলে মানুষ মানবতা চয় ধর্মকে সর্বোচ্চ প...\n",
      "46     ধর্ম একমাত্ বিষয়, যা সঠিকভাব না পড়ে, না বুঝে… ...\n",
      "83     গ্যারান্ দিয় বলছি- ধর্ম পালন কর মানুষ ধার্মিক ...\n",
      "147                                 ফুটবল বানামু তোর দুদ\n",
      "49            ধর্ম মানব চিত্ত স্বাধীনতা দেওয়া ম উদা নয়\\n\n",
      "85                     ধর্ম আরম্ভ মিথ্যায়, শেষ মিথ্যায়\\n\n",
      "13     ধর্মকর্ম বসা পূর্ব গোসল কিংবা হাতমুখ ধুয় ধর্মক...\n",
      "79                           হিংসে হয় আমার মত  চুততে চাও\n",
      "31                           তোর বাপ করে ছিল মাগির পোলা \n",
      "55                   কুকুরে চুদার পর তুই দুনিয়াতে এসেছিস\n",
      "90     পৃথিবী কোন প্রাতিষ্ঠানিক ধর্ম দর্শন তত্ত্ব ভিত...\n",
      "21     ধর্মপুস্তক এ গৌরবগাঁথা রয়েছে, যা পড় বহু মানুষ ...\n",
      "142                    তুই  তো তোর দুধরে খুলে রাখতে পারস\n",
      "48                                         খানকির পোলারা\n",
      "0      ﻿হাওয়া গন্ধম খাওয়া গন্ধম গাছ অভিশাপ তা রজস্রাব...\n",
      "33                      উন্নয়নের চোদনে এখন ব্যাংক শুন্য \n",
      "112                  মাগির ভোদায় পেট্টোলবোমা  মারা দরকার\n",
      "                             ...                        \n",
      "115                                   এটা হলো বিশ্ব মাগি\n",
      "78     ধর্ম ইতিহাস এক বড় অংশ জুড়ে রয়ছ যুদ্ধ-দাঙ্গা-দখ...\n",
      "35     ধর্ম যতো না মানুষ উপকার লাগে, তারচয় বহুগুণ এবং...\n",
      "8      তোর জারজ বাপ যে লন্ডনে সেই শুয়োরকে কত ইঞ্চি বর...\n",
      "28     ধর্ম থক ওইসব বাক্য/শব্দ সম্পূর্ণরূপ মুছ ফেলা হ...\n",
      "60             এ বানচোদ তোর পরিবার নেই এতো বাজে কথা বলিস\n",
      "128                                 নামাজ চোদার টাইম আছে\n",
      "1                     মাগির বাচ্চারা অযথাই বেতিন খাচ্ছে \n",
      "22     আপনারা মিষ্টি খেয়ে আঙগুল চুশবেন আর আমরা সজিনার...\n",
      "7      নিজের ভোদার জ্বালা মেটাতে গিয়ে তোর জন্ম হয়ে গেছে \n",
      "141    এই খানকি মাগিরে আমার কাছে পাঠায় দাও ওরে শুয়ার ...\n",
      "86                          তুই কোন চেটের বাল মাগির পোলা\n",
      "60                 এরা ধর্ম-মদান্ধ, নিজেদ ভাষায়- ধ্মবী\\n\n",
      "34                           ধর্ম সত্য প্রকাশ বাধা দেয়\\n\n",
      "68         কাকু লেংটা হইয়া পুটকি বার করে একটা  ভিডিও দাও\n",
      "50                          আপনার বউ অন্যজন এসে চুদে যাক\n",
      "156                       এই মাগির দুধ বড় করা হয়েছে টিপে\n",
      "71     এসব ধার্মিকদ চরিত্র, আচা-ব্যবহা বিশ্লেষণ করলে,...\n",
      "73                 ধার্মিক য ধর্ম বোঝে, মানবতা বোঝ না,\\n\n",
      "178                     ফেসবুকে নিতিকথার স্ট্যাটাস চুদান\n",
      "56     প্রায় সব ধর্মরাষ্ট্রগুলো প্রচণ্ড ক্ষমতালোভী, অ...\n",
      "71                           গোলআলু মাদারচোদ  চুদি তোদের\n",
      "129        এই খানকি মাগীর পোলা তোর গুষ্টি চোদার টাইম আছে\n",
      "144                               মাগির বোদা ফাটাবো চুদে\n",
      "133                            এই জন্য তুমি মুখ দিয়া চোদ\n",
      "22     যখন-তখন যেকোনো সময় সামপ্দায়িকতা বিস্ফোরণ অতি স...\n",
      "74           এরপর ধর্ম কীভাব এ দায় এড়িয় যাই বোধগম্য নয়\\n\n",
      "72            সালা টাক চোদা বুড়ো তোর মুখ তো কুকুরের মতো\n",
      "54                       ধর্ম/ধার্মিকদ কিছু হল লজ্জা হ\\n\n",
      "37                                            আবাল চোদা \n",
      "Name: col, Length: 223, dtype: object\n"
     ]
    }
   ],
   "source": [
    "print(X_train)"
   ]
  },
  {
   "cell_type": "code",
   "execution_count": 19,
   "metadata": {},
   "outputs": [],
   "source": [
    "result = result.sample(frac=1)"
   ]
  },
  {
   "cell_type": "code",
   "execution_count": 20,
   "metadata": {},
   "outputs": [
    {
     "data": {
      "text/html": [
       "<div>\n",
       "<style scoped>\n",
       "    .dataframe tbody tr th:only-of-type {\n",
       "        vertical-align: middle;\n",
       "    }\n",
       "\n",
       "    .dataframe tbody tr th {\n",
       "        vertical-align: top;\n",
       "    }\n",
       "\n",
       "    .dataframe thead th {\n",
       "        text-align: right;\n",
       "    }\n",
       "</style>\n",
       "<table border=\"1\" class=\"dataframe\">\n",
       "  <thead>\n",
       "    <tr style=\"text-align: right;\">\n",
       "      <th></th>\n",
       "      <th>col</th>\n",
       "      <th>label</th>\n",
       "    </tr>\n",
       "  </thead>\n",
       "  <tbody>\n",
       "    <tr>\n",
       "      <th>149</th>\n",
       "      <td>তোর দুদ খাবো</td>\n",
       "      <td>0</td>\n",
       "    </tr>\n",
       "    <tr>\n",
       "      <th>95</th>\n",
       "      <td>ইসলাম পুরোটা এক ভুয়া ধর্ম অন্যান্য সকল ধর্ম মত\\n</td>\n",
       "      <td>1</td>\n",
       "    </tr>\n",
       "    <tr>\n",
       "      <th>167</th>\n",
       "      <td>কতো বড় মাদারচোদ মাগী ভিডিওতে শুধু দুধ এর শো</td>\n",
       "      <td>0</td>\n",
       "    </tr>\n",
       "    <tr>\n",
       "      <th>87</th>\n",
       "      <td>তোকে কুত্তায় চোদেনা তুই পাওয়ার দেখাস</td>\n",
       "      <td>0</td>\n",
       "    </tr>\n",
       "    <tr>\n",
       "      <th>130</th>\n",
       "      <td>মদ খাবো মাগি চুতবো</td>\n",
       "      <td>0</td>\n",
       "    </tr>\n",
       "    <tr>\n",
       "      <th>19</th>\n",
       "      <td>যুদ্ধ করে ধর্ম রক্ষা  বিস্তা ঘটানো সম্ভব (যা চ...</td>\n",
       "      <td>1</td>\n",
       "    </tr>\n",
       "    <tr>\n",
       "      <th>147</th>\n",
       "      <td>ফুটবল বানামু তোর দুদ</td>\n",
       "      <td>0</td>\n",
       "    </tr>\n",
       "    <tr>\n",
       "      <th>30</th>\n",
       "      <td>কন্ডম দিয়ে চুদবেন নইলে তার মতো তারছেঁড়া পয়দা হবে</td>\n",
       "      <td>0</td>\n",
       "    </tr>\n",
       "    <tr>\n",
       "      <th>42</th>\n",
       "      <td>প্রতি ধর্ম মারাত্মকভাব শ্রেষ্ঠত্ব  অহংবোধ আক্র...</td>\n",
       "      <td>1</td>\n",
       "    </tr>\n",
       "    <tr>\n",
       "      <th>91</th>\n",
       "      <td>আমার মতো পোলাকে মারলে খাড়ার উপর পটকী মাইরা  দিতাম</td>\n",
       "      <td>0</td>\n",
       "    </tr>\n",
       "  </tbody>\n",
       "</table>\n",
       "</div>"
      ],
      "text/plain": [
       "                                                   col  label\n",
       "149                                       তোর দুদ খাবো      0\n",
       "95    ইসলাম পুরোটা এক ভুয়া ধর্ম অন্যান্য সকল ধর্ম মত\\n      1\n",
       "167        কতো বড় মাদারচোদ মাগী ভিডিওতে শুধু দুধ এর শো      0\n",
       "87              তোকে কুত্তায় চোদেনা তুই পাওয়ার দেখাস      0\n",
       "130                                 মদ খাবো মাগি চুতবো      0\n",
       "19   যুদ্ধ করে ধর্ম রক্ষা  বিস্তা ঘটানো সম্ভব (যা চ...      1\n",
       "147                               ফুটবল বানামু তোর দুদ      0\n",
       "30   কন্ডম দিয়ে চুদবেন নইলে তার মতো তারছেঁড়া পয়দা হবে       0\n",
       "42   প্রতি ধর্ম মারাত্মকভাব শ্রেষ্ঠত্ব  অহংবোধ আক্র...      1\n",
       "91   আমার মতো পোলাকে মারলে খাড়ার উপর পটকী মাইরা  দিতাম      0"
      ]
     },
     "execution_count": 20,
     "metadata": {},
     "output_type": "execute_result"
    }
   ],
   "source": [
    "result.head(10)"
   ]
  },
  {
   "cell_type": "markdown",
   "metadata": {},
   "source": [
    "def read_file\n",
    "def data_preprocessing\n",
    "dataframe making + label making\n",
    "add all dataframe\n",
    "suffle dataframe\n",
    "split in train test \n",
    "give it to algorithm\n",
    "gridsearch for best peremter\n",
    "\n"
   ]
  },
  {
   "cell_type": "markdown",
   "metadata": {},
   "source": [
    "# PART 3 : REPRESENTING TEXT AS NUMERICAL DATA"
   ]
  },
  {
   "cell_type": "code",
   "execution_count": 21,
   "metadata": {},
   "outputs": [],
   "source": [
    "# import and instantiate CountVectorizer (with the default parameters)\n",
    "from sklearn.feature_extraction.text import CountVectorizer\n",
    "vect = CountVectorizer(tokenizer=lambda a: a.split())"
   ]
  },
  {
   "cell_type": "code",
   "execution_count": 25,
   "metadata": {},
   "outputs": [],
   "source": [
    "# learn the 'vocabulary' of the training data (occurs in-place)\n",
    "X_train_dtm = vect.fit_transform(X_train)\n",
    "X_test_dtm = vect.transform(X_test)"
   ]
  },
  {
   "cell_type": "code",
   "execution_count": 26,
   "metadata": {},
   "outputs": [],
   "source": [
    "# import and instantiate a Multinomial Naive Bayes model\n",
    "from sklearn.naive_bayes import MultinomialNB\n",
    "nb = MultinomialNB()"
   ]
  },
  {
   "cell_type": "code",
   "execution_count": 27,
   "metadata": {},
   "outputs": [
    {
     "name": "stdout",
     "output_type": "stream",
     "text": [
      "Wall time: 129 ms\n"
     ]
    },
    {
     "data": {
      "text/plain": [
       "MultinomialNB(alpha=1.0, class_prior=None, fit_prior=True)"
      ]
     },
     "execution_count": 27,
     "metadata": {},
     "output_type": "execute_result"
    }
   ],
   "source": [
    "# train the model using X_train_dtm (timing it with an IPython \"magic command\")\n",
    "%time nb.fit(X_train_dtm, y_train)"
   ]
  },
  {
   "cell_type": "code",
   "execution_count": 28,
   "metadata": {},
   "outputs": [],
   "source": [
    "# make class predictions for X_test_dtm\n",
    "y_pred_class = nb.predict(X_test_dtm)"
   ]
  },
  {
   "cell_type": "code",
   "execution_count": 29,
   "metadata": {},
   "outputs": [
    {
     "data": {
      "text/plain": [
       "1.0"
      ]
     },
     "execution_count": 29,
     "metadata": {},
     "output_type": "execute_result"
    }
   ],
   "source": [
    "# calculate accuracy of class predictions\n",
    "from sklearn import metrics\n",
    "metrics.accuracy_score(y_test, y_pred_class)"
   ]
  },
  {
   "cell_type": "code",
   "execution_count": null,
   "metadata": {},
   "outputs": [],
   "source": []
  }
 ],
 "metadata": {
  "kernelspec": {
   "display_name": "Python 3",
   "language": "python",
   "name": "python3"
  },
  "language_info": {
   "codemirror_mode": {
    "name": "ipython",
    "version": 3
   },
   "file_extension": ".py",
   "mimetype": "text/x-python",
   "name": "python",
   "nbconvert_exporter": "python",
   "pygments_lexer": "ipython3",
   "version": "3.6.5"
  }
 },
 "nbformat": 4,
 "nbformat_minor": 2
}
